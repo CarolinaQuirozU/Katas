{
 "cells": [
  {
   "cell_type": "markdown",
   "metadata": {},
   "source": [
    "Ejercicio1 - Utilizar operadores aritméticos"
   ]
  },
  {
   "cell_type": "code",
   "execution_count": 60,
   "metadata": {},
   "outputs": [],
   "source": [
    "#Tierra (149597870 km) \n",
    "#Júpiter (778547200 km)"
   ]
  },
  {
   "cell_type": "code",
   "execution_count": 61,
   "metadata": {},
   "outputs": [],
   "source": [
    "distancia_Tierra= 149597870\n",
    "distancia_Júpiter= 778547200"
   ]
  },
  {
   "cell_type": "code",
   "execution_count": 62,
   "metadata": {},
   "outputs": [
    {
     "name": "stdout",
     "output_type": "stream",
     "text": [
      "628949330\n"
     ]
    }
   ],
   "source": [
    "Distancia_entre_planetas_km=distancia_Tierra - distancia_Júpiter\n",
    "\n",
    "print (abs(Distancia_entre_planetas))"
   ]
  },
  {
   "cell_type": "code",
   "execution_count": 63,
   "metadata": {},
   "outputs": [
    {
     "name": "stdout",
     "output_type": "stream",
     "text": [
      "390577533\n"
     ]
    }
   ],
   "source": [
    "Distancia_en_millas= Distancia_entre_planetas_km * 0.621\n",
    "\n",
    "print (abs(ceil(Distancia_en_millas)))"
   ]
  },
  {
   "cell_type": "markdown",
   "metadata": {},
   "source": [
    "Ejercicio 2: convierte cadenas en números y usa valores absolutos"
   ]
  },
  {
   "cell_type": "code",
   "execution_count": 64,
   "metadata": {},
   "outputs": [
    {
     "name": "stdout",
     "output_type": "stream",
     "text": [
      "0 \n",
      "0\n"
     ]
    }
   ],
   "source": [
    "distancia_Tierra = input (\"Ingresa la distancia de la Tierra\") \n",
    "distancia_Júpiter = input (\"Ingresa la distancia de Júpiter\")\n",
    "\n",
    "print (distancia_Tierra)\n",
    "print (distancia_Júpiter)"
   ]
  },
  {
   "cell_type": "code",
   "execution_count": 65,
   "metadata": {},
   "outputs": [
    {
     "name": "stdout",
     "output_type": "stream",
     "text": [
      "0\n",
      "0\n"
     ]
    }
   ],
   "source": [
    "distancia_Tierra= int (distancia_Tierra)\n",
    "distancia_Júpiter= int (distancia_Júpiter)\n",
    "\n",
    "print (distancia_Tierra)\n",
    "print (distancia_Júpiter)\n"
   ]
  },
  {
   "cell_type": "code",
   "execution_count": 66,
   "metadata": {},
   "outputs": [
    {
     "name": "stdout",
     "output_type": "stream",
     "text": [
      "628949330\n"
     ]
    }
   ],
   "source": [
    "Distancia_entre_planetas_km=distancia_Tierra - distancia_Júpiter\n",
    "\n",
    "print (abs(Distancia_entre_planetas))"
   ]
  },
  {
   "cell_type": "code",
   "execution_count": 67,
   "metadata": {},
   "outputs": [
    {
     "name": "stdout",
     "output_type": "stream",
     "text": [
      "0\n"
     ]
    }
   ],
   "source": [
    "Distancia_en_millas= Distancia_entre_planetas_km * 0.621\n",
    "\n",
    "print (abs(ceil(Distancia_en_millas)))"
   ]
  },
  {
   "cell_type": "markdown",
   "metadata": {},
   "source": [
    "Corrigiendo nombres para ejecutar con cualquier planeta"
   ]
  },
  {
   "cell_type": "code",
   "execution_count": 89,
   "metadata": {},
   "outputs": [
    {
     "name": "stdout",
     "output_type": "stream",
     "text": [
      "4495100000\n",
      "1433500000\n"
     ]
    }
   ],
   "source": [
    "distancia_planeta1 = input (\"Ingresa la distancia del planeta 1\") \n",
    "distancia_planeta2 = input (\"Ingresa la distancia del planeta 2\")\n",
    "\n",
    "print (distancia_planeta1)\n",
    "print (distancia_planeta2)"
   ]
  },
  {
   "cell_type": "code",
   "execution_count": 90,
   "metadata": {},
   "outputs": [
    {
     "name": "stdout",
     "output_type": "stream",
     "text": [
      "4495100000\n",
      "1433500000\n"
     ]
    }
   ],
   "source": [
    "distancia_planeta1= int (distancia_planeta1)\n",
    "distancia_planeta2= int (distancia_planeta2)\n",
    "\n",
    "print (distancia_planeta1)\n",
    "print (distancia_planeta2)"
   ]
  },
  {
   "cell_type": "code",
   "execution_count": 94,
   "metadata": {},
   "outputs": [
    {
     "name": "stdout",
     "output_type": "stream",
     "text": [
      "3061600000\n"
     ]
    }
   ],
   "source": [
    "Distancia_entre_planetas1y2_km=distancia_planeta1 - distancia_planeta2\n",
    "\n",
    "print (abs(Distancia_entre_planetas1y2_km))"
   ]
  },
  {
   "cell_type": "code",
   "execution_count": 93,
   "metadata": {},
   "outputs": [
    {
     "name": "stdout",
     "output_type": "stream",
     "text": [
      "1901253600\n"
     ]
    }
   ],
   "source": [
    "Distancia_millas= Distancia_entre_planetas1y2_km * 0.621\n",
    "\n",
    "print (abs(ceil(Distancia_millas)))"
   ]
  }
 ],
 "metadata": {
  "interpreter": {
   "hash": "5d6e6a29d65153ba1d295a1d96af2120fbcb9a0564deb30e3eae5a25437b0af4"
  },
  "kernelspec": {
   "display_name": "Python 3.10.2 64-bit",
   "language": "python",
   "name": "python3"
  },
  "language_info": {
   "codemirror_mode": {
    "name": "ipython",
    "version": 3
   },
   "file_extension": ".py",
   "mimetype": "text/x-python",
   "name": "python",
   "nbconvert_exporter": "python",
   "pygments_lexer": "ipython3",
   "version": "3.10.2"
  },
  "orig_nbformat": 4
 },
 "nbformat": 4,
 "nbformat_minor": 2
}
