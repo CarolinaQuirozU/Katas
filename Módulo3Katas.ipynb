{
 "cells": [
  {
   "cell_type": "markdown",
   "metadata": {},
   "source": [
    "Ejercicio 1 - Escribir declaraciones if, else, y elif"
   ]
  },
  {
   "cell_type": "code",
   "execution_count": 7,
   "metadata": {},
   "outputs": [
    {
     "name": "stdout",
     "output_type": "stream",
     "text": [
      "¡Un asteroide se acerca, y viaja a una velocidad de 49 km/s!\n"
     ]
    }
   ],
   "source": [
    "#a es igual a la velocidad que no genera alarma\n",
    "#b es igual a la velocidad del asteroide que puede o no generar alarma\n",
    "\n",
    "a=25\n",
    "b=49\n",
    "if b > a:\n",
    "    print (\"¡Un asteroide se acerca, y viaja a una velocidad de 49 km/s!\")\n",
    "else:\n",
    "    print (\"Todo ok, siga con su vida\")"
   ]
  },
  {
   "cell_type": "code",
   "execution_count": 8,
   "metadata": {},
   "outputs": [
    {
     "name": "stdout",
     "output_type": "stream",
     "text": [
      "Todo ok, siga con su vida\n"
     ]
    }
   ],
   "source": [
    "#a es igual a la velocidad que no genera alarma\n",
    "#b es igual a la velocidad del asteroide que puede o no generar alarma\n",
    "a=25\n",
    "b=4\n",
    "if b > a:\n",
    "    print (\"Un asteroide se acerca, y viaja a una velocidad de 49 km/s.\")\n",
    "else:\n",
    "    print (\"Todo ok, siga con su vida\")"
   ]
  },
  {
   "cell_type": "markdown",
   "metadata": {},
   "source": [
    "Ejercicio 2 - Escribir declaraciones if, else, y elif"
   ]
  },
  {
   "cell_type": "code",
   "execution_count": 9,
   "metadata": {},
   "outputs": [
    {
     "name": "stdout",
     "output_type": "stream",
     "text": [
      "¡Hay un asteroide que se dirige a la tierra ahora a una velocidad de 19 km/s!\n"
     ]
    }
   ],
   "source": [
    "#a es igual a la velocidad del asteroide \n",
    "#b es igual a la velocidad que que a veces genera un rayo de luz/alerta\n",
    "\n",
    "a=19\n",
    "b=20\n",
    "if a==19:\n",
    "    print(\"¡Hay un asteroide que se dirige a la tierra ahora a una velocidad de 19 km/s!\")\n",
    "elif a>=b:\n",
    "    print(\"¡Busca el rayo de luz, hay un asteroide en el cielo!\")\n",
    "else:\n",
    "    print(\"Todo ok, siga con su vida\")\n",
    "    "
   ]
  },
  {
   "cell_type": "code",
   "execution_count": 10,
   "metadata": {},
   "outputs": [
    {
     "name": "stdout",
     "output_type": "stream",
     "text": [
      "¡Busca el rayo de luz, hay un asteroide en el cielo!\n"
     ]
    }
   ],
   "source": [
    "#a es igual a la velocidad del asteroide \n",
    "#b es igual a la velocidad que que a veces genera un rayo de luz/alerta\n",
    "\n",
    "a=29\n",
    "b=20\n",
    "if a==19:\n",
    "    print(\"¡Hay un asteroide que se dirige a la tierra ahora a una velocidad de 19 km/s!\")\n",
    "elif a>=b:\n",
    "    print(\"¡Busca el rayo de luz, hay un asteroide en el cielo!\")\n",
    "else:\n",
    "    print(\"Todo ok, siga con su vida\")"
   ]
  },
  {
   "cell_type": "code",
   "execution_count": 11,
   "metadata": {},
   "outputs": [
    {
     "name": "stdout",
     "output_type": "stream",
     "text": [
      "Todo ok, siga con su vida\n"
     ]
    }
   ],
   "source": [
    "#a es igual a la velocidad del asteroide \n",
    "#b es igual a la velocidad que que a veces genera un rayo de luz/alerta\n",
    "\n",
    "a=9\n",
    "b=20\n",
    "if a==19:\n",
    "    print(\"¡Hay un asteroide que se dirige a la tierra ahora a una velocidad de 19 km/s!\")\n",
    "elif a>=b:\n",
    "    print(\"¡Busca el rayo de luz, hay un asteroide en el cielo!\")\n",
    "else:\n",
    "    print(\"Todo ok, siga con su vida\")"
   ]
  },
  {
   "cell_type": "markdown",
   "metadata": {},
   "source": [
    "Ejercicio: Uso de operadores AND y OR"
   ]
  },
  {
   "cell_type": "code",
   "execution_count": null,
   "metadata": {},
   "outputs": [
    {
     "name": "stdout",
     "output_type": "stream",
     "text": [
      "No te agobies, se quema en el camino.\n"
     ]
    }
   ],
   "source": [
    "dimensiónA=25 #metros\n",
    "dimensiónB=1000 #metros\n",
    "if dimensiónA <=25:\n",
    "    print (\"No te agobies, se quema en el camino.\")\n",
    "\n",
    "else:\n",
    "    print(\"¡El asteroide golpeará la tierra!\")"
   ]
  },
  {
   "cell_type": "code",
   "execution_count": null,
   "metadata": {},
   "outputs": [
    {
     "name": "stdout",
     "output_type": "stream",
     "text": [
      "¡El asteroide golpeará la tierra!\n"
     ]
    }
   ],
   "source": [
    "dimensiónA=250 #metros\n",
    "dimensiónB=1000 #metros\n",
    "if dimensiónA <=25:\n",
    "    print (\"No te agobies, se quema en el camino.\")\n",
    "\n",
    "else:\n",
    "    print(\"¡El asteroide golpeará la tierra!\")"
   ]
  },
  {
   "cell_type": "code",
   "execution_count": null,
   "metadata": {},
   "outputs": [
    {
     "name": "stdout",
     "output_type": "stream",
     "text": [
      "No te agobies, se quema en el camino.\n"
     ]
    }
   ],
   "source": [
    "dimensiónA=25 #metros, si es menor se quema\n",
    "dimensiónB=1000 #metros\n",
    "VelocidadA=25 #km/s advertencia\n",
    "VelocidadB=20 #km/s rayo de luz\n",
    "if dimensiónA <=25 and dimensiónB == 1000:\n",
    "    print (\"!El asteroide golpeará la tierra!\")\n",
    "else:\n",
    "    print(\"No te agobies, se quema en el camino.\")\n",
    "    \n"
   ]
  },
  {
   "cell_type": "code",
   "execution_count": 28,
   "metadata": {},
   "outputs": [
    {
     "name": "stdout",
     "output_type": "stream",
     "text": [
      "¡Busca el rayo de luz, hay un asteroide en el cielo!\n"
     ]
    }
   ],
   "source": [
    "dimensiónA=25 #menor a 25metros, se quema\n",
    "dimensiónB=1000 #menor a 1000metros\n",
    "VelocidadA=25 #25km/s advertencia\n",
    "VelocidadB=20 #20km/s rayo de luz\n",
    "\n",
    "if dimensiónA <25:\n",
    "    if dimensiónA <25 and dimensiónB >1000:\n",
    "        print (\"!El asteroide golpeará la tierra!\")\n",
    "    else: \n",
    "        print(\"No te agobies, se quema en el camino.\")\n",
    "elif VelocidadA >=25 or VelocidadB >=20:\n",
    "    print(\"¡Busca el rayo de luz, hay un asteroide en el cielo!\")\n",
    "else:\n",
    "    print(\"Todo ok, siga con su vida\")\n",
    "\n",
    "    #No me sale :("
   ]
  },
  {
   "cell_type": "code",
   "execution_count": 95,
   "metadata": {},
   "outputs": [
    {
     "name": "stdout",
     "output_type": "stream",
     "text": [
      "!Se acerca un asteroide a la tierra y es peligroso!\n"
     ]
    }
   ],
   "source": [
    "#intento \n",
    "\n",
    "dimensión=26 #menor a 25metros, se quema #menor a 1000metros, impacto\n",
    "Velocidad=25 #20km/s o más rayo de luz #25km/s advertencia\n",
    "\n",
    "if dimensión >25 and Velocidad >=25:\n",
    "    print (\"!Se acerca un asteroide a la tierra y es peligroso!\")\n",
    "elif Velocidad >=20: \n",
    "    print(\"¡Busca el rayo de luz, hay un asteroide en el cielo!\")\n",
    "elif dimensión <25 or Velocidad <20:\n",
    "    print(\"Todo ok, siga con su vida\")\n",
    "else :\n",
    "    print(\"Todo ok, siga con su vida\")"
   ]
  },
  {
   "cell_type": "code",
   "execution_count": 98,
   "metadata": {},
   "outputs": [
    {
     "name": "stdout",
     "output_type": "stream",
     "text": [
      "¡Busca el rayo de luz, hay un asteroide en el cielo!\n"
     ]
    }
   ],
   "source": [
    "#intento \n",
    "\n",
    "dimensión=24 #menor a 25metros, se quema #menor a 1000metros, impacto\n",
    "Velocidad=20 #20km/s o más rayo de luz #25km/s advertencia\n",
    "\n",
    "if dimensión >25 and Velocidad >=25:\n",
    "    print (\"!Se acerca un asteroide a la tierra y es peligroso!\")\n",
    "elif Velocidad >=20 and dimensión <25: \n",
    "    print(\"¡Busca el rayo de luz, hay un asteroide en el cielo!\")\n",
    "elif dimensión <25 or Velocidad <20:\n",
    "    print(\"Todo ok, siga con su vida\")\n",
    "else :\n",
    "    print(\"Todo ok, siga con su vida\")"
   ]
  },
  {
   "cell_type": "code",
   "execution_count": 99,
   "metadata": {},
   "outputs": [
    {
     "name": "stdout",
     "output_type": "stream",
     "text": [
      "Todo ok, siga con su vida\n"
     ]
    }
   ],
   "source": [
    "#intento \n",
    "\n",
    "dimensión=24 #menor a 25metros, se quema #menor a 1000metros, impacto\n",
    "Velocidad=19 #20km/s o más rayo de luz #25km/s advertencia\n",
    "\n",
    "if dimensión >25 and Velocidad >=25:\n",
    "    print (\"!Se acerca un asteroide a la tierra y es peligroso!\")\n",
    "elif Velocidad >=20 and dimensión <25: \n",
    "    print(\"¡Busca el rayo de luz, hay un asteroide en el cielo!\")\n",
    "elif dimensión <25 or Velocidad <20:\n",
    "    print(\"Todo ok, siga con su vida\")\n",
    "else :\n",
    "    print(\"Todo ok, siga con su vida\")"
   ]
  }
 ],
 "metadata": {
  "interpreter": {
   "hash": "5d6e6a29d65153ba1d295a1d96af2120fbcb9a0564deb30e3eae5a25437b0af4"
  },
  "kernelspec": {
   "display_name": "Python 3.10.2 64-bit",
   "language": "python",
   "name": "python3"
  },
  "language_info": {
   "codemirror_mode": {
    "name": "ipython",
    "version": 3
   },
   "file_extension": ".py",
   "mimetype": "text/x-python",
   "name": "python",
   "nbconvert_exporter": "python",
   "pygments_lexer": "ipython3",
   "version": "3.10.2"
  },
  "orig_nbformat": 4
 },
 "nbformat": 4,
 "nbformat_minor": 2
}
